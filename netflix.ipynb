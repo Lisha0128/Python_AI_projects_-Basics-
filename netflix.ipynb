{
  "nbformat": 4,
  "nbformat_minor": 0,
  "metadata": {
    "colab": {
      "provenance": [],
      "authorship_tag": "ABX9TyMvHREN5awd65Ud5iMaF8CW",
      "include_colab_link": true
    },
    "kernelspec": {
      "name": "python3",
      "display_name": "Python 3"
    },
    "language_info": {
      "name": "python"
    }
  },
  "cells": [
    {
      "cell_type": "markdown",
      "metadata": {
        "id": "view-in-github",
        "colab_type": "text"
      },
      "source": [
        "<a href=\"https://colab.research.google.com/github/Lisha0128/Python_AI_projects_-Basics-/blob/main/netflix.ipynb\" target=\"_parent\"><img src=\"https://colab.research.google.com/assets/colab-badge.svg\" alt=\"Open In Colab\"/></a>"
      ]
    },
    {
      "cell_type": "code",
      "source": [
        "import pandas as pd\n",
        "from sklearn.model_selection import train_test_split, cross_val_score\n",
        "from sklearn.ensemble import RandomForestRegressor\n",
        "from sklearn.metrics import mean_squared_error, r2_score\n",
        "from sklearn.preprocessing import StandardScaler\n",
        "\n",
        "# Step 1: Load the dataset\n",
        "df = pd.read_csv('Netflix_Dataset_Rating.csv')  # Replace with your actual dataset path\n",
        "\n",
        "# Step 2: Handle missing values\n",
        "numeric_columns = df.select_dtypes(include=['float64', 'int64']).columns\n",
        "df[numeric_columns] = df[numeric_columns].fillna(df[numeric_columns].mean())\n",
        "\n",
        "categorical_columns = df.select_dtypes(include=['object']).columns\n",
        "for col in categorical_columns:\n",
        "    df[col].fillna(df[col].mode()[0], inplace=True)\n",
        "\n",
        "# Check if missing values are handled\n",
        "print(df.isnull().sum())\n",
        "\n",
        "# Step 3: Feature Engineering\n",
        "# Convert categorical variables into numeric using one-hot encoding\n",
        "df = pd.get_dummies(df, drop_first=True)\n",
        "\n",
        "# Step 4: Feature Scaling (if needed)\n",
        "scaler = StandardScaler()\n",
        "df[['Rating']] = scaler.fit_transform(df[['Rating']])  # Scaling the 'Rating' column\n",
        "\n",
        "# Step 5: Define Features and Target Variable\n",
        "X = df.drop(columns=['Rating'])  # All columns except 'Rating'\n",
        "y = df['Rating']  # Target variable is 'Rating'\n",
        "\n",
        "# Step 6: Split the Data into Training and Testing Sets\n",
        "X_train, X_test, y_train, y_test = train_test_split(X, y, test_size=0.2, random_state=42)\n",
        "\n",
        "# Step 7: Build the Random Forest Model\n",
        "model = RandomForestRegressor(n_estimators=100, max_depth=10, random_state=42)  # Random Forest Model\n",
        "\n",
        "# Train the model on the training data\n",
        "model.fit(X_train, y_train)\n",
        "\n",
        "# Step 8: Make Predictions\n",
        "y_pred = model.predict(X_test)\n",
        "\n",
        "# Step 9: Model Evaluation\n",
        "mse = mean_squared_error(y_test, y_pred)\n",
        "r2 = r2_score(y_test, y_pred)\n",
        "\n",
        "print(f\"Mean Squared Error: {mse}\")\n",
        "print(f\"R-Squared: {r2}\")\n",
        "\n",
        "# # Step 10: Cross-Validation (Optional for better results)\n",
        "# cv_scores = cross_val_score(model, X, y, cv=5, scoring='neg_mean_squared_error')\n",
        "# print(f\"Cross-Validation MSE: {-cv_scores.mean()}\")\n",
        "\n",
        "# # Step 11: Feature Importance (Optional)\n",
        "# importances = model.feature_importances_\n",
        "# print(\"Feature Importances:\", importances)\n",
        "\n",
        "# Example: Predict Ratings for New Data (if applicable)\n",
        "# X_new = pd.DataFrame({'Feature1': [value1], 'Feature2': [value2], ...})\n",
        "# y_new_pred = model.predict(X_new)\n",
        "# print(y_new_pred)\n"
      ],
      "metadata": {
        "colab": {
          "base_uri": "https://localhost:8080/"
        },
        "id": "lwFNOTyDDuiT",
        "outputId": "25e2e297-5b56-4161-da44-cc5061811fc5"
      },
      "execution_count": null,
      "outputs": [
        {
          "output_type": "stream",
          "name": "stdout",
          "text": [
            "User_ID     0\n",
            "Rating      0\n",
            "Movie_ID    0\n",
            "dtype: int64\n",
            "Mean Squared Error: 0.9208048916310466\n",
            "R-Squared: 0.07140918301688448\n"
          ]
        }
      ]
    }
  ]
}